{
 "cells": [
  {
   "cell_type": "markdown",
   "metadata": {
    "collapsed": true
   },
   "source": [
    "## 第2章: UNIXコマンドの基礎\n",
    "\n",
    "* 日本の最高気温の記録を「都道府県」「地点」「℃」「日」のタブ区切り形式で格納したhightemp.txtを入力として用いる."
   ]
  },
  {
   "cell_type": "markdown",
   "metadata": {},
   "source": [
    "### 10. 行数のカウント\n",
    "行数をカウントせよ．確認にはwcコマンドを用いよ．"
   ]
  },
  {
   "cell_type": "code",
   "execution_count": 12,
   "metadata": {
    "collapsed": false
   },
   "outputs": [
    {
     "name": "stdout",
     "output_type": "stream",
     "text": [
      "hightemp.txtの行数 :  24\n"
     ]
    }
   ],
   "source": [
    "with open('hightemp.txt','r') as f:\n",
    "    lines = f.readlines()\n",
    "    print('hightemp.txtの行数 : ',len(lines))"
   ]
  },
  {
   "cell_type": "markdown",
   "metadata": {},
   "source": [
    "wcコマンドで確認\n",
    "\n",
    "> $ wc hightemp.txt\n",
    "\n",
    "> 24  96 813 hightemp.txt"
   ]
  },
  {
   "cell_type": "markdown",
   "metadata": {},
   "source": [
    "### 11. タブをスペースに置換\n",
    "タブ1文字につきスペース1文字に置換せよ．確認にはsedコマンド，trコマンド，もしくはexpandコマンドを用いよ．"
   ]
  },
  {
   "cell_type": "code",
   "execution_count": 26,
   "metadata": {
    "collapsed": false
   },
   "outputs": [
    {
     "name": "stdout",
     "output_type": "stream",
     "text": [
      "['高知県\\t江川崎\\t41\\t2013-08-12\\n', '埼玉県\\t熊谷\\t40.9\\t2007-08-16\\n', '岐阜県\\t多治見\\t40.9\\t2007-08-16\\n', '山形県\\t山形\\t40.8\\t1933-07-25\\n', '山梨県\\t甲府\\t40.7\\t2013-08-10\\n', '和歌山県\\tかつらぎ\\t40.6\\t1994-08-08\\n', '静岡県\\t天竜\\t40.6\\t1994-08-04\\n', '山梨県\\t勝沼\\t40.5\\t2013-08-10\\n', '埼玉県\\t越谷\\t40.4\\t2007-08-16\\n', '群馬県\\t館林\\t40.3\\t2007-08-16\\n', '群馬県\\t上里見\\t40.3\\t1998-07-04\\n', '愛知県\\t愛西\\t40.3\\t1994-08-05\\n', '千葉県\\t牛久\\t40.2\\t2004-07-20\\n', '静岡県\\t佐久間\\t40.2\\t2001-07-24\\n', '愛媛県\\t宇和島\\t40.2\\t1927-07-22\\n', '山形県\\t酒田\\t40.1\\t1978-08-03\\n', '岐阜県\\t美濃\\t40\\t2007-08-16\\n', '群馬県\\t前橋\\t40\\t2001-07-24\\n', '千葉県\\t茂原\\t39.9\\t2013-08-11\\n', '埼玉県\\t鳩山\\t39.9\\t1997-07-05\\n', '大阪府\\t豊中\\t39.9\\t1994-08-08\\n', '山梨県\\t大月\\t39.9\\t1990-07-19\\n', '山形県\\t鶴岡\\t39.9\\t1978-08-03\\n', '愛知県\\t名古屋\\t39.9\\t1942-08-02\\n'] \n",
      "\n",
      "['高知県 江川崎 41 2013-08-12\\n', '埼玉県 熊谷 40.9 2007-08-16\\n', '岐阜県 多治見 40.9 2007-08-16\\n', '山形県 山形 40.8 1933-07-25\\n', '山梨県 甲府 40.7 2013-08-10\\n', '和歌山県 かつらぎ 40.6 1994-08-08\\n', '静岡県 天竜 40.6 1994-08-04\\n', '山梨県 勝沼 40.5 2013-08-10\\n', '埼玉県 越谷 40.4 2007-08-16\\n', '群馬県 館林 40.3 2007-08-16\\n', '群馬県 上里見 40.3 1998-07-04\\n', '愛知県 愛西 40.3 1994-08-05\\n', '千葉県 牛久 40.2 2004-07-20\\n', '静岡県 佐久間 40.2 2001-07-24\\n', '愛媛県 宇和島 40.2 1927-07-22\\n', '山形県 酒田 40.1 1978-08-03\\n', '岐阜県 美濃 40 2007-08-16\\n', '群馬県 前橋 40 2001-07-24\\n', '千葉県 茂原 39.9 2013-08-11\\n', '埼玉県 鳩山 39.9 1997-07-05\\n', '大阪府 豊中 39.9 1994-08-08\\n', '山梨県 大月 39.9 1990-07-19\\n', '山形県 鶴岡 39.9 1978-08-03\\n', '愛知県 名古屋 39.9 1942-08-02\\n']\n"
     ]
    }
   ],
   "source": [
    "with open('hightemp.txt','r') as f:\n",
    "    lines = f.readlines()\n",
    "    # タブがあることを確認\n",
    "    print(lines,'\\n')\n",
    "    \n",
    "    # タブをスペースに置換\n",
    "    replaced = [line.replace('\\t',' ') for line in lines]\n",
    "    print(replaced)"
   ]
  },
  {
   "cell_type": "markdown",
   "metadata": {},
   "source": [
    " trコマンドで置換する\n",
    " \n",
    " > \\$ cat hightemp.txt | tr '\\t' ' ' > hightemp_011.txt\n"
   ]
  },
  {
   "cell_type": "markdown",
   "metadata": {},
   "source": [
    "### 12. 1列目をcol1.txtに，2列目をcol2.txtに保存\n",
    "各行の1列目だけを抜き出したものをcol1.txtに，2列目だけを抜き出したものをcol2.txtとしてファイルに保存せよ．確認にはcutコマンドを用いよ．"
   ]
  },
  {
   "cell_type": "code",
   "execution_count": 32,
   "metadata": {
    "collapsed": false
   },
   "outputs": [],
   "source": [
    "'''\n",
    "1列目・2列目を抽出する\n",
    "'''\n",
    "col1 = []\n",
    "col2 = []\n",
    "with open('hightemp.txt','r') as f:\n",
    "    lines = f.readlines()\n",
    "    for line in lines:\n",
    "        cols = line.split('\\t')\n",
    "        col1.append(cols[0])\n",
    "        col2.append(cols[1])\n",
    "'''\n",
    "1列目を保存\n",
    "'''\n",
    "with open('col1.txt','w') as fout1:\n",
    "    for each in col1:\n",
    "        fout1.write(each+'\\n')\n",
    "'''\n",
    "2列目を保存\n",
    "'''\n",
    "with open('col2.txt','w') as fout2:\n",
    "    for each in col2:\n",
    "        fout2.write(each+'\\n')"
   ]
  },
  {
   "cell_type": "markdown",
   "metadata": {},
   "source": [
    "cutコマンドで実行\n",
    "\n",
    "> \\$ cut -f1 hightemp.txt > col1_unix.txt\n",
    "\n",
    "> \\$ cut -f2 hightemp.txt > col2_unix.txt"
   ]
  },
  {
   "cell_type": "markdown",
   "metadata": {},
   "source": [
    "### 13. col1.txtとcol2.txtをマージ\n",
    "12で作ったcol1.txtとcol2.txtを結合し，元のファイルの1列目と2列目をタブ区切りで並べたテキストファイルを作成せよ．\n",
    "\n",
    "確認にはpasteコマンドを用いよ．"
   ]
  },
  {
   "cell_type": "code",
   "execution_count": 46,
   "metadata": {
    "collapsed": false
   },
   "outputs": [],
   "source": [
    "col1 = open('col1.txt','r').readlines()\n",
    "col2 = open('col2.txt','r').readlines()\n",
    "\n",
    "'''\n",
    "col1.txtとcol2.txtを結合する\n",
    "'''\n",
    "colMerge = []\n",
    "for c1,c2 in zip(col1,col2):\n",
    "    colMerge.append(c1.strip() + '\\t' + c2)\n",
    "\n",
    "'''\n",
    "結合したリストをテキストファイルにする\n",
    "'''\n",
    "with open('colMerged.txt','w') as fout:\n",
    "    for each in colMerge:\n",
    "        fout.write(each)"
   ]
  },
  {
   "cell_type": "markdown",
   "metadata": {},
   "source": [
    "pasteコマンドで実行\n",
    "\n",
    "> \\$ paste col1_unix.txt col2_unix.txt > colMerged_unix.txt"
   ]
  },
  {
   "cell_type": "markdown",
   "metadata": {},
   "source": [
    "### 14. 先頭からN行を出力\n",
    "自然数Nをコマンドライン引数などの手段で受け取り，入力のうち先頭のN行だけを表示せよ．確認にはheadコマンドを用いよ．\n",
    "\n",
    "* 今回はJupyter Notebook上で実行しているため, 自然数Nは関数の引数として与えています."
   ]
  },
  {
   "cell_type": "code",
   "execution_count": 63,
   "metadata": {
    "collapsed": false
   },
   "outputs": [
    {
     "name": "stdout",
     "output_type": "stream",
     "text": [
      "高知県\t江川崎\t41\t2013-08-12\n",
      "\n",
      "埼玉県\t熊谷\t40.9\t2007-08-16\n",
      "\n",
      "岐阜県\t多治見\t40.9\t2007-08-16\n",
      "\n",
      "山形県\t山形\t40.8\t1933-07-25\n",
      "\n",
      "山梨県\t甲府\t40.7\t2013-08-10\n",
      "\n"
     ]
    }
   ],
   "source": [
    "import sys\n",
    "\n",
    "def getHead(head):\n",
    "    with open('hightemp.txt','r') as f:\n",
    "        lines = f.readlines()\n",
    "        for lineCnt in range(head):\n",
    "            print(lines[lineCnt])\n",
    "\n",
    "if __name__ == \"__main__\":\n",
    "    args = sys.argv\n",
    "    head = args[1]\n",
    "    # コマンドライン上で実行するときはgetHeadに渡す引数を変数headに変更する\n",
    "    getHead(5)"
   ]
  },
  {
   "cell_type": "markdown",
   "metadata": {},
   "source": [
    "headコマンドで確認\n",
    "\n",
    "> head -n 5 hightemp.txt"
   ]
  },
  {
   "cell_type": "markdown",
   "metadata": {},
   "source": [
    "### 15. 末尾のN行を出力\n",
    "自然数Nをコマンドライン引数などの手段で受け取り，入力のうち末尾のN行だけを表示せよ．確認にはtailコマンドを用いよ．\n",
    "\n",
    "* 今回はJupyter Notebook上で実行しているため, 自然数Nは関数の引数として与えています."
   ]
  },
  {
   "cell_type": "code",
   "execution_count": 66,
   "metadata": {
    "collapsed": false
   },
   "outputs": [
    {
     "name": "stdout",
     "output_type": "stream",
     "text": [
      "埼玉県\t鳩山\t39.9\t1997-07-05\n",
      "\n",
      "大阪府\t豊中\t39.9\t1994-08-08\n",
      "\n",
      "山梨県\t大月\t39.9\t1990-07-19\n",
      "\n",
      "山形県\t鶴岡\t39.9\t1978-08-03\n",
      "\n",
      "愛知県\t名古屋\t39.9\t1942-08-02\n",
      "\n"
     ]
    }
   ],
   "source": [
    "import sys\n",
    "\n",
    "def getTail(tail):\n",
    "    with open('hightemp.txt','r') as f:\n",
    "        lines = f.readlines()\n",
    "        tails = len(lines) - tail\n",
    "        for lineCnt in range(tails,len(lines),1):\n",
    "            print(lines[lineCnt])\n",
    "            \n",
    "if __name__ == \"__main__\":\n",
    "    args = sys.argv\n",
    "    tail = args[1]\n",
    "     # コマンドライン上で実行するときはgetTailに渡す引数を変数tailに変更する\n",
    "    getTail(5)"
   ]
  },
  {
   "cell_type": "markdown",
   "metadata": {},
   "source": [
    "tailコマンドで確認\n",
    "\n",
    "> \\$ tail -n 5 hightemp.txt"
   ]
  },
  {
   "cell_type": "markdown",
   "metadata": {},
   "source": [
    "### 16. ファイルをN分割する\n",
    "自然数Nをコマンドライン引数などの手段で受け取り，入力のファイルを行単位でN分割せよ．同様の処理をsplitコマンドで実現せよ．\n",
    "\n",
    "* 今回はJupyter Notebook上で実行しているため, 自然数Nは関数の引数として与えています."
   ]
  },
  {
   "cell_type": "code",
   "execution_count": 87,
   "metadata": {
    "collapsed": false
   },
   "outputs": [
    {
     "name": "stdout",
     "output_type": "stream",
     "text": [
      "高知県\t江川崎\t41\t2013-08-12\n",
      "\n",
      "埼玉県\t熊谷\t40.9\t2007-08-16\n",
      "\n",
      "岐阜県\t多治見\t40.9\t2007-08-16\n",
      "\n",
      "山形県\t山形\t40.8\t1933-07-25\n",
      "\n",
      "山梨県\t甲府\t40.7\t2013-08-10\n",
      "\n",
      "和歌山県\tかつらぎ\t40.6\t1994-08-08\n",
      "\n",
      "\n",
      "\n",
      "静岡県\t天竜\t40.6\t1994-08-04\n",
      "\n",
      "山梨県\t勝沼\t40.5\t2013-08-10\n",
      "\n",
      "埼玉県\t越谷\t40.4\t2007-08-16\n",
      "\n",
      "群馬県\t館林\t40.3\t2007-08-16\n",
      "\n",
      "群馬県\t上里見\t40.3\t1998-07-04\n",
      "\n",
      "愛知県\t愛西\t40.3\t1994-08-05\n",
      "\n",
      "\n",
      "\n",
      "千葉県\t牛久\t40.2\t2004-07-20\n",
      "\n",
      "静岡県\t佐久間\t40.2\t2001-07-24\n",
      "\n",
      "愛媛県\t宇和島\t40.2\t1927-07-22\n",
      "\n",
      "山形県\t酒田\t40.1\t1978-08-03\n",
      "\n",
      "岐阜県\t美濃\t40\t2007-08-16\n",
      "\n",
      "群馬県\t前橋\t40\t2001-07-24\n",
      "\n",
      "\n",
      "\n",
      "千葉県\t茂原\t39.9\t2013-08-11\n",
      "\n",
      "埼玉県\t鳩山\t39.9\t1997-07-05\n",
      "\n",
      "大阪府\t豊中\t39.9\t1994-08-08\n",
      "\n",
      "山梨県\t大月\t39.9\t1990-07-19\n",
      "\n",
      "山形県\t鶴岡\t39.9\t1978-08-03\n",
      "\n",
      "愛知県\t名古屋\t39.9\t1942-08-02\n",
      "\n",
      "\n",
      "\n"
     ]
    }
   ],
   "source": [
    "import sys\n",
    "\n",
    "def saveFile(From,to,cols):\n",
    "    fname = 'hightemp_' + str(From) + '-' + str(to) + '.txt'\n",
    "    with open(fname,'w') as fout:\n",
    "        for line in cols:\n",
    "            fout.write(line)\n",
    "\n",
    "def splitFile(splitNum):\n",
    "    with open('hightemp.txt','r') as f:\n",
    "        lines = f.readlines()\n",
    "        each = int(len(lines)/splitNum)\n",
    "        point = [point for point in range(0,len(lines),each)]\n",
    "        point.append(point[len(point)-1]+each)\n",
    "        \n",
    "        for num in range(len(point)-1):\n",
    "            From = point[num]\n",
    "            to = point[num+1]\n",
    "            cols = []\n",
    "            for col in range(From,to,1):\n",
    "                print(lines[col])\n",
    "                cols.append(lines[col])\n",
    "            print('\\n')\n",
    "            saveFile(From,to,cols)\n",
    "            \n",
    "if __name__ == \"__main__\":\n",
    "    args = sys.argv\n",
    "    split = args[1]\n",
    "    splitFile(4)"
   ]
  },
  {
   "cell_type": "markdown",
   "metadata": {},
   "source": [
    "splitコマンドで実行\n",
    "\n",
    "> \\$ split -l 4 hightemp.txt\n",
    "\n",
    "* 4分割なのでxaa xab xac xadというファイルが作られる."
   ]
  }
 ],
 "metadata": {
  "anaconda-cloud": {},
  "kernelspec": {
   "display_name": "Python [conda env:NLP100]",
   "language": "python",
   "name": "conda-env-NLP100-py"
  },
  "language_info": {
   "codemirror_mode": {
    "name": "ipython",
    "version": 3
   },
   "file_extension": ".py",
   "mimetype": "text/x-python",
   "name": "python",
   "nbconvert_exporter": "python",
   "pygments_lexer": "ipython3",
   "version": "3.5.2"
  }
 },
 "nbformat": 4,
 "nbformat_minor": 1
}
