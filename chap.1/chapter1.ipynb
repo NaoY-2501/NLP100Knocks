{
 "cells": [
  {
   "cell_type": "markdown",
   "metadata": {},
   "source": [
    "## 第1章: 準備運動"
   ]
  },
  {
   "cell_type": "markdown",
   "metadata": {},
   "source": [
    "\n",
    "### 00. 文字列の逆順\n",
    "\n",
    "文字列\"stressed\"の文字を逆に（末尾から先頭に向かって）並べた文字列を得よ．\n",
    "\n",
    "---"
   ]
  },
  {
   "cell_type": "markdown",
   "metadata": {},
   "source": [
    "参考:[スライス - Python入門から応用までの学習サイト](http://www.python-izm.com/contents/basis/slice.shtml)"
   ]
  },
  {
   "cell_type": "code",
   "execution_count": 1,
   "metadata": {
    "collapsed": false
   },
   "outputs": [
    {
     "data": {
      "text/plain": [
       "'desserts'"
      ]
     },
     "execution_count": 1,
     "metadata": {},
     "output_type": "execute_result"
    }
   ],
   "source": [
    "# 対象の文字列\n",
    "txt = 'stressed'\n",
    "\n",
    "# [::-1]で文字列の末尾から逆順に取得することができる.\n",
    "txt[::-1]"
   ]
  },
  {
   "cell_type": "markdown",
   "metadata": {},
   "source": [
    "\n",
    "### 01. 「パタトクカシーー」\n",
    "\n",
    "「パタトクカシーー」という文字列の1,3,5,7文字目を取り出して連結した文字列を得よ．\n"
   ]
  },
  {
   "cell_type": "code",
   "execution_count": 2,
   "metadata": {
    "collapsed": false
   },
   "outputs": [
    {
     "data": {
      "text/plain": [
       "'パトカー'"
      ]
     },
     "execution_count": 2,
     "metadata": {},
     "output_type": "execute_result"
    }
   ],
   "source": [
    "txt = 'パタトクカシーー'\n",
    "\n",
    "# [始点:終点:増分]で指定した増分だけステップ数を刻んだ文字列を取得できる.\n",
    "txt[::2]"
   ]
  },
  {
   "cell_type": "markdown",
   "metadata": {},
   "source": [
    "### 02. 「パトカー」＋「タクシー」＝「パタトクカシーー」\n",
    "\n",
    "「パトカー」＋「タクシー」の文字を先頭から交互に連結して文字列「パタトクカシーー」を得よ．\n"
   ]
  },
  {
   "cell_type": "code",
   "execution_count": 3,
   "metadata": {
    "collapsed": false
   },
   "outputs": [
    {
     "name": "stdout",
     "output_type": "stream",
     "text": [
      "パ:タ\n",
      "ト:ク\n",
      "カ:シ\n",
      "ー:ー\n"
     ]
    },
    {
     "data": {
      "text/plain": [
       "'パタトクカシーー'"
      ]
     },
     "execution_count": 3,
     "metadata": {},
     "output_type": "execute_result"
    }
   ],
   "source": [
    "txt1 = 'パトカー'\n",
    "txt2 = 'タクシー'\n",
    "txt = ''\n",
    "for i in range(len(txt1)):\n",
    "    txt1Sub = txt1[i:i+1]\n",
    "    txt2Sub = txt2[i:i+1]\n",
    "    txt += txt1Sub + txt2Sub\n",
    "    print(txt1Sub  + \":\" + txt2Sub)\n",
    "txt"
   ]
  },
  {
   "cell_type": "markdown",
   "metadata": {},
   "source": [
    "### 03. 円周率\n",
    "\n",
    "\n",
    "\"Now I need a drink, alcoholic of course, after the heavy lectures involving quantum mechanics.\"という文を単語に分解し，各単語の（アルファベットの）文字数を先頭から出現順に並べたリストを作成せよ．"
   ]
  },
  {
   "cell_type": "code",
   "execution_count": 4,
   "metadata": {
    "collapsed": false
   },
   "outputs": [
    {
     "name": "stdout",
     "output_type": "stream",
     "text": [
      "Now:3\n",
      "I:1\n",
      "need:4\n",
      "a:1\n",
      "drink,:6\n",
      "alcoholic:9\n",
      "of:2\n",
      "course,:7\n",
      "after:5\n",
      "the:3\n",
      "heavy:5\n",
      "lectures:8\n",
      "involving:9\n",
      "quantum:7\n",
      "mechanics.:10\n"
     ]
    },
    {
     "data": {
      "text/plain": [
       "[3, 1, 4, 1, 5, 9, 2, 6, 5, 3, 5, 8, 9, 7, 10]"
      ]
     },
     "execution_count": 4,
     "metadata": {},
     "output_type": "execute_result"
    }
   ],
   "source": [
    "txt = \"Now I need a drink, alcoholic of course, after the heavy lectures involving quantum mechanics.\"\n",
    "words = txt.split(' ')\n",
    "wordsLen = []\n",
    "for word in words:\n",
    "    print(word + ':' + str(len(word)))\n",
    "    wordsLen.append(len(word))\n",
    "# カンマが文字列として含まれてしまっているので, カンマを削除する.\n",
    "wordsLen = []\n",
    "for word in words:\n",
    "    word = word.replace(',','')\n",
    "    wordsLen.append(len(word))\n",
    "wordsLen"
   ]
  },
  {
   "cell_type": "markdown",
   "metadata": {},
   "source": [
    "### 04. 元素記号\n",
    "\n",
    "\"Hi He Lied Because Boron Could Not Oxidize Fluorine. New Nations Might Also Sign Peace Security Clause. Arthur King Can.\"という文を単語に分解し，1, 5, 6, 7, 8, 9, 15, 16, 19番目の単語は先頭の1文字，それ以外の単語は先頭に2文字を取り出し，取り出した文字列から単語の位置（先頭から何番目の単語か）への連想配列（辞書型もしくはマップ型）を作成せよ．"
   ]
  },
  {
   "cell_type": "code",
   "execution_count": 6,
   "metadata": {
    "collapsed": false
   },
   "outputs": [
    {
     "name": "stdout",
     "output_type": "stream",
     "text": [
      "word:['H', 'He', 'L', 'Be', 'B', 'Co', 'N', 'Ox', 'F', 'Ne', 'N', 'Mi', 'A', 'Si', 'P', 'Se', 'C', 'Ar', 'K', 'Ca']\n",
      "position:[1, 2, 3, 4, 5, 6, 7, 8, 9, 10, 11, 12, 13, 14, 15, 16, 17, 18, 19, 20]\n"
     ]
    }
   ],
   "source": [
    "txt = \"Hi He Lied Because Boron Could Not Oxidize Fluorine. New Nations Might Also Sign Peace Security Clause. Arthur King Can.\"\n",
    "\n",
    "# 文を半角スペースで分割してリストに格納\n",
    "List = txt.split(\" \")\n",
    "\n",
    "# 取り出した文字列を格納するリスト\n",
    "word = []\n",
    "# 単語の位置を格納するリスト\n",
    "position = []\n",
    "\n",
    "for pos in range(len(List)):\n",
    "    if (pos+1)%2 > 0:\n",
    "        word.append(List[pos][:1])\n",
    "    else:\n",
    "        word.append(List[pos][:2])\n",
    "    position.append(pos+1)\n",
    "\n",
    "# 文字列と単語の位置を連想配列に格納\n",
    "d = {'word':word,'position':position}\n",
    "\n",
    "# 辞書型はd.items()でイテレートできる\n",
    "for k,v in d.items():\n",
    "    print(k,end=\":\")\n",
    "    print(str(v))"
   ]
  },
  {
   "cell_type": "markdown",
   "metadata": {
    "collapsed": true
   },
   "source": [
    "### 05. n-gram\n",
    "\n",
    "与えられたシーケンス（文字列やリストなど）からn-gramを作る関数を作成せよ．この関数を用い，\"I am an NLPer\"という文から単語bi-gram，文字bi-gramを得よ．"
   ]
  },
  {
   "cell_type": "markdown",
   "metadata": {},
   "source": [
    "**n-gram**とは\n",
    "\n",
    "文章などで隣り合うn個を指す。\n",
    "\n",
    "* 単語n-gram\n",
    "    * 隣り合うn個の単語\n",
    "    \n",
    "    * 単語bi-gram\n",
    "    \n",
    "        * this is a pen なら以下のようになる\n",
    "        \n",
    "            * this-is is-a a-pen\n",
    "* 文字n-gram\n",
    "    * 隣り合うn個の文字\n",
    "    \n",
    "    * 文字bi-gram\n",
    "        \n",
    "        * abcd なら以下のようになる\n",
    "        \n",
    "            * ab bc cd\n",
    "\n",
    "参考：[Negative/Positive Thinking * N-gram](http://d.hatena.ne.jp/jetbead/20110904/1315147133)"
   ]
  },
  {
   "cell_type": "code",
   "execution_count": 21,
   "metadata": {
    "collapsed": false
   },
   "outputs": [
    {
     "data": {
      "text/plain": [
       "{'char N-gram': ['Ia', 'am', 'ma', 'an', 'nN', 'NL', 'LP', 'Pe', 'er'],\n",
       " 'word N-gram': [['I', 'am'], ['am', 'an'], ['an', 'NLPer']]}"
      ]
     },
     "execution_count": 21,
     "metadata": {},
     "output_type": "execute_result"
    }
   ],
   "source": [
    "'''\n",
    "単語n-gramと文字n-gramを作る関数\n",
    "params:seq,n\n",
    "    seq:シーケンス\n",
    "    n:取得するn-gram\n",
    "      e.g. bi-gramなら2. tri-gramなら3\n",
    "'''\n",
    "def getNgram(seq,n):\n",
    "    words = seq.split(\" \")\n",
    "    chars = seq.replace(\" \",\"\")\n",
    "    wordNgram = []\n",
    "    charNgram = []\n",
    "    for pos in range(len(words)):\n",
    "        if pos == len(words)-(n-1):\n",
    "            break\n",
    "        else:\n",
    "            wordNgram.append(words[pos:pos+n])\n",
    "    for pos in range(len(chars)):\n",
    "        if pos == len(chars)-(n-1):\n",
    "            break\n",
    "        else:\n",
    "            charNgram.append(chars[pos:pos+n])\n",
    "    d = {'word N-gram':wordNgram,'char N-gram':charNgram}\n",
    "    return d\n",
    "\n",
    "txt = \"I am an NLPer\"\n",
    "nGrams = getNgram(txt,2)\n",
    "nGrams"
   ]
  },
  {
   "cell_type": "markdown",
   "metadata": {},
   "source": [
    "### 06.集合\n",
    "\n",
    "\"paraparaparadise\"と\"paragraph\"に含まれる文字bi-gramの集合を，それぞれ, XとYとして求め，XとYの和集合，積集合，差集合を求めよ．さらに，'se'というbi-gramがXおよびYに含まれるかどうかを調べよ．"
   ]
  },
  {
   "cell_type": "code",
   "execution_count": 17,
   "metadata": {
    "collapsed": false
   },
   "outputs": [
    {
     "name": "stdout",
     "output_type": "stream",
     "text": [
      "paraparaparadiseの文字bi-gram集合 {'ar', 'pa', 'ra', 'ad', 'se', 'di', 'is', 'ap'}\n",
      "paragraphの文字bi-gram集合 {'ar', 'ph', 'gr', 'pa', 'ra', 'ag', 'ap'}\n",
      "\n",
      "XとYの和集合 {'ar', 'ph', 'gr', 'pa', 'ra', 'ad', 'se', 'di', 'is', 'ag', 'ap'}\n",
      "XとYの積集合 {'ar', 'pa', 'ap', 'ra'}\n",
      "XとYの差集合 {'di', 'is', 'ad', 'se'}\n",
      "seがXに含まれるか True\n",
      "seがYに含まれるか False\n"
     ]
    }
   ],
   "source": [
    "paradise= \"paraparaparadise\"\n",
    "paragraph= \"paragraph\"\n",
    "\n",
    "def getCharBiGram(txt):\n",
    "    biGrams = []\n",
    "    for pos in range(len(txt)-1):\n",
    "        biGram = txt[pos]+txt[pos+1]\n",
    "        biGrams.append(biGram)\n",
    "    return biGrams\n",
    "\n",
    "'''\n",
    "集合(set))は重複する要素のない要素の集まり\n",
    "'''\n",
    "# paradiseの文字bi-gram集合\n",
    "X = set(getCharBiGram(paradise))\n",
    "# paragraphの文字bi-gram集合\n",
    "Y = set(getCharBiGram(paragraph))\n",
    "print(\"paraparaparadiseの文字bi-gram集合\",X)\n",
    "print(\"paragraphの文字bi-gram集合\",Y)\n",
    "print()\n",
    "print(\"XとYの和集合\",X.union(Y))\n",
    "print(\"XとYの積集合\",X.intersection(Y))\n",
    "print(\"XとYの差集合\",X.difference(Y))\n",
    "print(\"seがXに含まれるか\",\"se\" in X)\n",
    "print(\"seがYに含まれるか\",\"se\" in Y)"
   ]
  },
  {
   "cell_type": "markdown",
   "metadata": {},
   "source": [
    "### 07.テンプレートによる文生成\n",
    "引数x, y, zを受け取り「x時のyはz」という文字列を返す関数を実装せよ．さらに，x=12, y=\"気温\", z=22.4として，実行結果を確認せよ．"
   ]
  },
  {
   "cell_type": "code",
   "execution_count": 26,
   "metadata": {
    "collapsed": false
   },
   "outputs": [
    {
     "name": "stdout",
     "output_type": "stream",
     "text": [
      "12時の気温は22.4\n"
     ]
    }
   ],
   "source": [
    "def template(x,y,z):\n",
    "    mapping={\"x\":x,\"y\":y,\"z\":z}\n",
    "    print(\"{x}時の{y}は{z}\".format_map(mapping))\n",
    "    \n",
    "template(12,\"気温\",22.4)"
   ]
  },
  {
   "cell_type": "markdown",
   "metadata": {},
   "source": [
    "### 08.暗号文\n",
    "与えられた文字列の各文字を，以下の仕様で変換する関数cipherを実装せよ．\n",
    "\n",
    "* 英小文字ならば(219 - 文字コード)の文字に置換\n",
    "* その他の文字はそのまま出力\n",
    "\n",
    "この関数を用い，英語のメッセージを暗号化・復号化せよ．"
   ]
  },
  {
   "cell_type": "code",
   "execution_count": 58,
   "metadata": {
    "collapsed": false
   },
   "outputs": [
    {
     "name": "stdout",
     "output_type": "stream",
     "text": [
      "平文 zen of python\n",
      "暗号化後 avm lu kbgslm\n",
      "復号化後 zen of python\n"
     ]
    }
   ],
   "source": [
    "'''\n",
    "ord(c)でUnicodeコードポイントを取得できる\n",
    "chr(i)でUnicodeコードポイントに対応した文字を取得できる\n",
    "'''\n",
    "def cipher(txt):\n",
    "    engLowerMin=ord(\"a\")\n",
    "    engLowerMax=ord(\"z\")\n",
    "    # 暗号化\n",
    "    encrypted = \"\"\n",
    "    for char in txt:\n",
    "        codePoint = ord(char)\n",
    "        if codePoint >= engLowerMin and codePoint <= engLowerMax:\n",
    "            encrypted += (chr(219-codePoint))\n",
    "        else:\n",
    "            encrypted += (char)\n",
    "    return encrypted\n",
    "\n",
    "txt = \"zen of python\"\n",
    "print(\"平文\",txt)\n",
    "encrypted = cipher(txt)\n",
    "print(\"暗号化後\",encrypted)\n",
    "decrypted = cipher(encrypted)\n",
    "print(\"復号化後\",decrypted)"
   ]
  },
  {
   "cell_type": "markdown",
   "metadata": {},
   "source": [
    "### 09.Typoglycemia\n",
    "スペースで区切られた単語列に対して，各単語の先頭と末尾の文字は残し，それ以外の文字の順序をランダムに並び替えるプログラムを作成せよ．ただし，長さが４以下の単語は並び替えないこととする．適当な英語の文（例えば\"I couldn't believe that I could actually understand what I was reading : the phenomenal power of the human mind .\"）を与え，その実行結果を確認せよ．\n",
    "\n",
    "例文:\"I couldn't believe that I could actually understand what I was reading : the phenomenal power of the human mind .\"\n"
   ]
  },
  {
   "cell_type": "code",
   "execution_count": 95,
   "metadata": {
    "collapsed": false
   },
   "outputs": [
    {
     "name": "stdout",
     "output_type": "stream",
     "text": [
      "I cndulo't bvielee that I colud aluaclty uastrdnend what I was raneidg : the pnmenehaol power of the huamn mind . \n"
     ]
    }
   ],
   "source": [
    "'''\n",
    "Typoglycemia:単語の先頭と末尾が合っていれば、間が並び替えられていても読めてしまう現象\n",
    "'''\n",
    "\n",
    "def Typoglycemia(txt):\n",
    "    # 文章を単語のリストにする\n",
    "    words = txt.split(\" \")\n",
    "    \n",
    "    typoglycemia = \"\"\n",
    "\n",
    "    for word in words:\n",
    "        if len(word) < 5:\n",
    "            typoglycemia += word\n",
    "        else:\n",
    "            shuffled = \"\"\n",
    "            shuffleChars = [ char for char in word[1:-1] ]\n",
    "            random.shuffle(shuffleChars)\n",
    "            typoglycemia += (word[0]+shuffled.join(shuffleChars)+word[-1:])\n",
    "        typoglycemia += \" \"\n",
    "    return typoglycemia\n",
    "\n",
    "txt = \"I couldn't believe that I could actually understand what I was reading : the phenomenal power of the human mind .\"\n",
    "print(Typoglycemia(txt))"
   ]
  }
 ],
 "metadata": {
  "anaconda-cloud": {},
  "kernelspec": {
   "display_name": "Python [conda env:NLP100]",
   "language": "python",
   "name": "conda-env-NLP100-py"
  },
  "language_info": {
   "codemirror_mode": {
    "name": "ipython",
    "version": 3
   },
   "file_extension": ".py",
   "mimetype": "text/x-python",
   "name": "python",
   "nbconvert_exporter": "python",
   "pygments_lexer": "ipython3",
   "version": "3.5.2"
  }
 },
 "nbformat": 4,
 "nbformat_minor": 1
}
