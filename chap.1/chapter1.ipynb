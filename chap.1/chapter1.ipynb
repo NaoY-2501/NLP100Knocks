{
 "cells": [
  {
   "cell_type": "markdown",
   "metadata": {},
   "source": [
    "## 第1章: 準備運動"
   ]
  },
  {
   "cell_type": "markdown",
   "metadata": {},
   "source": [
    "```\n",
    "00. 文字列の逆順\n",
    "\n",
    "文字列\"stressed\"の文字を逆に（末尾から先頭に向かって）並べた文字列を得よ．\n",
    "```"
   ]
  },
  {
   "cell_type": "markdown",
   "metadata": {},
   "source": [
    "参考:[スライス - Python入門から応用までの学習サイト](http://www.python-izm.com/contents/basis/slice.shtml)"
   ]
  },
  {
   "cell_type": "code",
   "execution_count": 1,
   "metadata": {
    "collapsed": false
   },
   "outputs": [
    {
     "data": {
      "text/plain": [
       "'desserts'"
      ]
     },
     "execution_count": 1,
     "metadata": {},
     "output_type": "execute_result"
    }
   ],
   "source": [
    "# 対象の文字列\n",
    "txt = 'stressed'\n",
    "\n",
    "# [::-1]で文字列の末尾から逆順に取得することができる.\n",
    "txt[::-1]"
   ]
  },
  {
   "cell_type": "markdown",
   "metadata": {},
   "source": [
    "```\n",
    "01. 「パタトクカシーー」\n",
    "\n",
    "「パタトクカシーー」という文字列の1,3,5,7文字目を取り出して連結した文字列を得よ．\n",
    "```\n"
   ]
  },
  {
   "cell_type": "code",
   "execution_count": 2,
   "metadata": {
    "collapsed": false
   },
   "outputs": [
    {
     "data": {
      "text/plain": [
       "'パトカー'"
      ]
     },
     "execution_count": 2,
     "metadata": {},
     "output_type": "execute_result"
    }
   ],
   "source": [
    "txt = 'パタトクカシーー'\n",
    "\n",
    "# [始点:終点:増分]で指定した増分だけステップ数を刻んだ文字列を取得できる.\n",
    "txt[::2]"
   ]
  },
  {
   "cell_type": "markdown",
   "metadata": {},
   "source": [
    "```\n",
    "02. 「パトカー」＋「タクシー」＝「パタトクカシーー」\n",
    "\n",
    "「パトカー」＋「タクシー」の文字を先頭から交互に連結して文字列「パタトクカシーー」を得よ．\n",
    "\n",
    "```"
   ]
  },
  {
   "cell_type": "code",
   "execution_count": 3,
   "metadata": {
    "collapsed": false
   },
   "outputs": [
    {
     "name": "stdout",
     "output_type": "stream",
     "text": [
      "パ:タ\n",
      "ト:ク\n",
      "カ:シ\n",
      "ー:ー\n"
     ]
    },
    {
     "data": {
      "text/plain": [
       "'パタトクカシーー'"
      ]
     },
     "execution_count": 3,
     "metadata": {},
     "output_type": "execute_result"
    }
   ],
   "source": [
    "txt1 = 'パトカー'\n",
    "txt2 = 'タクシー'\n",
    "txt = ''\n",
    "for i in range(len(txt1)):\n",
    "    txt1Sub = txt1[i:i+1]\n",
    "    txt2Sub = txt2[i:i+1]\n",
    "    txt += txt1Sub + txt2Sub\n",
    "    print(txt1Sub  + \":\" + txt2Sub)\n",
    "txt"
   ]
  },
  {
   "cell_type": "markdown",
   "metadata": {},
   "source": [
    "```\n",
    "03. 円周率\n",
    "\n",
    "\"Now I need a drink, alcoholic of course, after the heavy lectures involving quantum mechanics.\"という文を単語に分解し，各単語の（アルファベットの）文字数を先頭から出現順に並べたリストを作成せよ．\n",
    "```"
   ]
  },
  {
   "cell_type": "code",
   "execution_count": 4,
   "metadata": {
    "collapsed": false
   },
   "outputs": [
    {
     "name": "stdout",
     "output_type": "stream",
     "text": [
      "Now:3\n",
      "I:1\n",
      "need:4\n",
      "a:1\n",
      "drink,:6\n",
      "alcoholic:9\n",
      "of:2\n",
      "course,:7\n",
      "after:5\n",
      "the:3\n",
      "heavy:5\n",
      "lectures:8\n",
      "involving:9\n",
      "quantum:7\n",
      "mechanics.:10\n"
     ]
    },
    {
     "data": {
      "text/plain": [
       "[3, 1, 4, 1, 5, 9, 2, 6, 5, 3, 5, 8, 9, 7, 10]"
      ]
     },
     "execution_count": 4,
     "metadata": {},
     "output_type": "execute_result"
    }
   ],
   "source": [
    "txt = \"Now I need a drink, alcoholic of course, after the heavy lectures involving quantum mechanics.\"\n",
    "words = txt.split(' ')\n",
    "wordsLen = []\n",
    "for word in words:\n",
    "    print(word + ':' + str(len(word)))\n",
    "    wordsLen.append(len(word))\n",
    "# カンマが文字列として含まれてしまっているので, カンマを削除する.\n",
    "wordsLen = []\n",
    "for word in words:\n",
    "    word = word.replace(',','')\n",
    "    wordsLen.append(len(word))\n",
    "wordsLen"
   ]
  }
 ],
 "metadata": {
  "anaconda-cloud": {},
  "kernelspec": {
   "display_name": "Python [conda env:NLP100]",
   "language": "python",
   "name": "conda-env-NLP100-py"
  },
  "language_info": {
   "codemirror_mode": {
    "name": "ipython",
    "version": 3
   },
   "file_extension": ".py",
   "mimetype": "text/x-python",
   "name": "python",
   "nbconvert_exporter": "python",
   "pygments_lexer": "ipython3",
   "version": "3.5.2"
  }
 },
 "nbformat": 4,
 "nbformat_minor": 1
}
