{
 "cells": [
  {
   "cell_type": "markdown",
   "metadata": {},
   "source": [
    "## 第1章: 準備運動"
   ]
  },
  {
   "cell_type": "markdown",
   "metadata": {},
   "source": [
    "```\n",
    "00. 文字列の逆順\n",
    "\n",
    "文字列\"stressed\"の文字を逆に（末尾から先頭に向かって）並べた文字列を得よ．\n",
    "```"
   ]
  },
  {
   "cell_type": "markdown",
   "metadata": {},
   "source": [
    "参考:[スライス - Python入門から応用までの学習サイト](http://www.python-izm.com/contents/basis/slice.shtml)"
   ]
  },
  {
   "cell_type": "code",
   "execution_count": 1,
   "metadata": {
    "collapsed": false
   },
   "outputs": [
    {
     "data": {
      "text/plain": [
       "'desserts'"
      ]
     },
     "execution_count": 1,
     "metadata": {},
     "output_type": "execute_result"
    }
   ],
   "source": [
    "# 対象の文字列\n",
    "txt = 'stressed'\n",
    "\n",
    "# [::-1]で文字列の末尾から逆順に取得することができる.\n",
    "txt[::-1]"
   ]
  },
  {
   "cell_type": "markdown",
   "metadata": {},
   "source": [
    "```\n",
    "01. 「パタトクカシーー」\n",
    "\n",
    "「パタトクカシーー」という文字列の1,3,5,7文字目を取り出して連結した文字列を得よ．\n",
    "```\n"
   ]
  },
  {
   "cell_type": "code",
   "execution_count": 2,
   "metadata": {
    "collapsed": false
   },
   "outputs": [
    {
     "data": {
      "text/plain": [
       "'パトカー'"
      ]
     },
     "execution_count": 2,
     "metadata": {},
     "output_type": "execute_result"
    }
   ],
   "source": [
    "txt = 'パタトクカシーー'\n",
    "\n",
    "# [始点:終点:増分]で指定した増分だけステップ数を刻んだ文字列を取得できる.\n",
    "txt[::2]"
   ]
  },
  {
   "cell_type": "markdown",
   "metadata": {},
   "source": [
    "```\n",
    "02. 「パトカー」＋「タクシー」＝「パタトクカシーー」\n",
    "\n",
    "「パトカー」＋「タクシー」の文字を先頭から交互に連結して文字列「パタトクカシーー」を得よ．\n",
    "\n",
    "```"
   ]
  },
  {
   "cell_type": "code",
   "execution_count": 3,
   "metadata": {
    "collapsed": false
   },
   "outputs": [
    {
     "name": "stdout",
     "output_type": "stream",
     "text": [
      "パ:タ\n",
      "ト:ク\n",
      "カ:シ\n",
      "ー:ー\n"
     ]
    },
    {
     "data": {
      "text/plain": [
       "'パタトクカシーー'"
      ]
     },
     "execution_count": 3,
     "metadata": {},
     "output_type": "execute_result"
    }
   ],
   "source": [
    "txt1 = 'パトカー'\n",
    "txt2 = 'タクシー'\n",
    "txt = ''\n",
    "for i in range(len(txt1)):\n",
    "    txt1Sub = txt1[i:i+1]\n",
    "    txt2Sub = txt2[i:i+1]\n",
    "    txt += txt1Sub + txt2Sub\n",
    "    print(txt1Sub  + \":\" + txt2Sub)\n",
    "txt"
   ]
  },
  {
   "cell_type": "markdown",
   "metadata": {},
   "source": [
    "```\n",
    "03. 円周率\n",
    "\n",
    "\"Now I need a drink, alcoholic of course, after the heavy lectures involving quantum mechanics.\"という文を単語に分解し，各単語の（アルファベットの）文字数を先頭から出現順に並べたリストを作成せよ．\n",
    "```"
   ]
  },
  {
   "cell_type": "code",
   "execution_count": 4,
   "metadata": {
    "collapsed": false
   },
   "outputs": [
    {
     "name": "stdout",
     "output_type": "stream",
     "text": [
      "Now:3\n",
      "I:1\n",
      "need:4\n",
      "a:1\n",
      "drink,:6\n",
      "alcoholic:9\n",
      "of:2\n",
      "course,:7\n",
      "after:5\n",
      "the:3\n",
      "heavy:5\n",
      "lectures:8\n",
      "involving:9\n",
      "quantum:7\n",
      "mechanics.:10\n"
     ]
    },
    {
     "data": {
      "text/plain": [
       "[3, 1, 4, 1, 5, 9, 2, 6, 5, 3, 5, 8, 9, 7, 10]"
      ]
     },
     "execution_count": 4,
     "metadata": {},
     "output_type": "execute_result"
    }
   ],
   "source": [
    "txt = \"Now I need a drink, alcoholic of course, after the heavy lectures involving quantum mechanics.\"\n",
    "words = txt.split(' ')\n",
    "wordsLen = []\n",
    "for word in words:\n",
    "    print(word + ':' + str(len(word)))\n",
    "    wordsLen.append(len(word))\n",
    "# カンマが文字列として含まれてしまっているので, カンマを削除する.\n",
    "wordsLen = []\n",
    "for word in words:\n",
    "    word = word.replace(',','')\n",
    "    wordsLen.append(len(word))\n",
    "wordsLen"
   ]
  },
  {
   "cell_type": "markdown",
   "metadata": {},
   "source": [
    "```\n",
    "04. 元素記号\n",
    "\n",
    "\"Hi He Lied Because Boron Could Not Oxidize Fluorine. New Nations Might Also Sign Peace Security Clause. Arthur King Can.\"という文を単語に分解し，1, 5, 6, 7, 8, 9, 15, 16, 19番目の単語は先頭の1文字，それ以外の単語は先頭に2文字を取り出し，取り出した文字列から単語の位置（先頭から何番目の単語か）への連想配列（辞書型もしくはマップ型）を作成せよ．\n",
    "```"
   ]
  },
  {
   "cell_type": "code",
   "execution_count": 6,
   "metadata": {
    "collapsed": false
   },
   "outputs": [
    {
     "name": "stdout",
     "output_type": "stream",
     "text": [
      "word:['H', 'He', 'L', 'Be', 'B', 'Co', 'N', 'Ox', 'F', 'Ne', 'N', 'Mi', 'A', 'Si', 'P', 'Se', 'C', 'Ar', 'K', 'Ca']\n",
      "position:[1, 2, 3, 4, 5, 6, 7, 8, 9, 10, 11, 12, 13, 14, 15, 16, 17, 18, 19, 20]\n"
     ]
    }
   ],
   "source": [
    "txt = \"Hi He Lied Because Boron Could Not Oxidize Fluorine. New Nations Might Also Sign Peace Security Clause. Arthur King Can.\"\n",
    "\n",
    "# 文を半角スペースで分割してリストに格納\n",
    "List = txt.split(\" \")\n",
    "\n",
    "# 取り出した文字列を格納するリスト\n",
    "word = []\n",
    "# 単語の位置を格納するリスト\n",
    "position = []\n",
    "\n",
    "for pos in range(len(List)):\n",
    "    if (pos+1)%2 > 0:\n",
    "        word.append(List[pos][:1])\n",
    "    else:\n",
    "        word.append(List[pos][:2])\n",
    "    position.append(pos+1)\n",
    "\n",
    "# 文字列と単語の位置を連想配列に格納\n",
    "d = {'word':word,'position':position}\n",
    "\n",
    "# 辞書型はd.items()でイテレートできる\n",
    "for k,v in d.items():\n",
    "    print(k,end=\":\")\n",
    "    print(str(v))"
   ]
  },
  {
   "cell_type": "markdown",
   "metadata": {
    "collapsed": true
   },
   "source": [
    "```\n",
    "05. n-gram\n",
    "\n",
    "与えられたシーケンス（文字列やリストなど）からn-gramを作る関数を作成せよ．この関数を用い，\"I am an NLPer\"という文から単語bi-gram，文字bi-gramを得よ．\n",
    "```"
   ]
  },
  {
   "cell_type": "markdown",
   "metadata": {},
   "source": [
    "**n-gram**とは\n",
    "\n",
    "文章などで隣り合うn個を指す。\n",
    "\n",
    "* 単語n-gram\n",
    "    * 隣り合うn個の単語\n",
    "    \n",
    "    * 単語bi-gram\n",
    "    \n",
    "        * this is a pen なら以下のようになる\n",
    "        \n",
    "            * this-is is-a a-pen\n",
    "* 文字n-gram\n",
    "    * 隣り合うn個の文字\n",
    "    \n",
    "    * 文字bi-gram\n",
    "        \n",
    "        * abcd なら以下のようになる\n",
    "        \n",
    "            * ab bc cd\n",
    "\n",
    "参考：[Negative/Positive Thinking * N-gram](http://d.hatena.ne.jp/jetbead/20110904/1315147133)"
   ]
  },
  {
   "cell_type": "code",
   "execution_count": 21,
   "metadata": {
    "collapsed": false
   },
   "outputs": [
    {
     "data": {
      "text/plain": [
       "{'char N-gram': ['Ia', 'am', 'ma', 'an', 'nN', 'NL', 'LP', 'Pe', 'er'],\n",
       " 'word N-gram': [['I', 'am'], ['am', 'an'], ['an', 'NLPer']]}"
      ]
     },
     "execution_count": 21,
     "metadata": {},
     "output_type": "execute_result"
    }
   ],
   "source": [
    "'''\n",
    "単語n-gramと文字n-gramを作る関数\n",
    "params:seq,n\n",
    "    seq:シーケンス\n",
    "    n:取得するn-gram\n",
    "      e.g. bi-gramなら2. tri-gramなら3\n",
    "'''\n",
    "def getNgram(seq,n):\n",
    "    words = seq.split(\" \")\n",
    "    chars = seq.replace(\" \",\"\")\n",
    "    wordNgram = []\n",
    "    charNgram = []\n",
    "    for pos in range(len(words)):\n",
    "        if pos == len(words)-(n-1):\n",
    "            break\n",
    "        else:\n",
    "            wordNgram.append(words[pos:pos+n])\n",
    "    for pos in range(len(chars)):\n",
    "        if pos == len(chars)-(n-1):\n",
    "            break\n",
    "        else:\n",
    "            charNgram.append(chars[pos:pos+n])\n",
    "    d = {'word N-gram':wordNgram,'char N-gram':charNgram}\n",
    "    return d\n",
    "\n",
    "txt = \"I am an NLPer\"\n",
    "nGrams = getNgram(txt,2)\n",
    "nGrams"
   ]
  }
 ],
 "metadata": {
  "anaconda-cloud": {},
  "kernelspec": {
   "display_name": "Python [conda env:NLP100]",
   "language": "python",
   "name": "conda-env-NLP100-py"
  },
  "language_info": {
   "codemirror_mode": {
    "name": "ipython",
    "version": 3
   },
   "file_extension": ".py",
   "mimetype": "text/x-python",
   "name": "python",
   "nbconvert_exporter": "python",
   "pygments_lexer": "ipython3",
   "version": "3.5.2"
  }
 },
 "nbformat": 4,
 "nbformat_minor": 1
}
